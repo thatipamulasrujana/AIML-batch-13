{
  "metadata": {
    "kernelspec": {
      "language": "python",
      "display_name": "Python 3",
      "name": "python3"
    },
    "language_info": {
      "name": "python",
      "version": "3.10.13",
      "mimetype": "text/x-python",
      "codemirror_mode": {
        "name": "ipython",
        "version": 3
      },
      "pygments_lexer": "ipython3",
      "nbconvert_exporter": "python",
      "file_extension": ".py"
    },
    "kaggle": {
      "accelerator": "nvidiaTeslaT4",
      "dataSources": [
        {
          "sourceId": 1637108,
          "sourceType": "datasetVersion",
          "datasetId": 967819
        }
      ],
      "dockerImageVersionId": 30664,
      "isInternetEnabled": true,
      "language": "python",
      "sourceType": "notebook",
      "isGpuEnabled": true
    },
    "colab": {
      "name": "🌽 Maize Leaf Disease Detection w\\CNN Keras",
      "provenance": [],
      "include_colab_link": true
    }
  },
  "nbformat_minor": 0,
  "nbformat": 4,
  "cells": [
    {
      "cell_type": "markdown",
      "metadata": {
        "id": "view-in-github",
        "colab_type": "text"
      },
      "source": [
        "<a href=\"https://colab.research.google.com/github/thatipamulasrujana/AIML-batch-13/blob/main/%F0%9F%8C%BD_Maize_Leaf_Disease_Detection_w_CNN_Keras.ipynb\" target=\"_parent\"><img src=\"https://colab.research.google.com/assets/colab-badge.svg\" alt=\"Open In Colab\"/></a>"
      ]
    },
    {
      "source": [
        "\n",
        "# IMPORTANT: RUN THIS CELL IN ORDER TO IMPORT YOUR KAGGLE DATA SOURCES\n",
        "# TO THE CORRECT LOCATION (/kaggle/input) IN YOUR NOTEBOOK,\n",
        "# THEN FEEL FREE TO DELETE THIS CELL.\n",
        "# NOTE: THIS NOTEBOOK ENVIRONMENT DIFFERS FROM KAGGLE'S PYTHON\n",
        "# ENVIRONMENT SO THERE MAY BE MISSING LIBRARIES USED BY YOUR\n",
        "# NOTEBOOK.\n",
        "\n",
        "import os\n",
        "import sys\n",
        "from tempfile import NamedTemporaryFile\n",
        "from urllib.request import urlopen\n",
        "from urllib.parse import unquote, urlparse\n",
        "from urllib.error import HTTPError\n",
        "from zipfile import ZipFile\n",
        "import tarfile\n",
        "import shutil\n",
        "\n",
        "CHUNK_SIZE = 40960\n",
        "DATA_SOURCE_MAPPING = 'corn-or-maize-leaf-disease-dataset:https%3A%2F%2Fstorage.googleapis.com%2Fkaggle-data-sets%2F967819%2F1637108%2Fbundle%2Farchive.zip%3FX-Goog-Algorithm%3DGOOG4-RSA-SHA256%26X-Goog-Credential%3Dgcp-kaggle-com%2540kaggle-161607.iam.gserviceaccount.com%252F20240507%252Fauto%252Fstorage%252Fgoog4_request%26X-Goog-Date%3D20240507T083305Z%26X-Goog-Expires%3D259200%26X-Goog-SignedHeaders%3Dhost%26X-Goog-Signature%3D4cfc2ac3a0dd597d2308170847d8bb3d1ba00eeccf8da5fee92b41fe0b884195bd09b3dc11c16ab4c84fed1005c8f13d37d75b691b3595118dcd69c4ce07aabf069b6c7c934d6639e355a14142c6681ed69261c5509956c17406ca8f4461904a5b011b41cd9380f7e1cf58c057edffed1821084193207dab83613bad2249b570907a0e5e8523d236a10b32fdde8e4879ae5d270ee03c31f29641c7a0735c8372b90f093566bae79a3353574a5946a63734e5467a2b962aec0a453d1f4e7032163dcea044c4ac1fe56077fa732bb8535f68d38ee1a80880b0bbba7ad90c76a8418971d1b87ff0023cb2df22497da0a69a0857b4051342d8f38a90ed45686caf09'\n",
        "\n",
        "KAGGLE_INPUT_PATH='/kaggle/input'\n",
        "KAGGLE_WORKING_PATH='/kaggle/working'\n",
        "KAGGLE_SYMLINK='kaggle'\n",
        "\n",
        "!umount /kaggle/input/ 2> /dev/null\n",
        "shutil.rmtree('/kaggle/input', ignore_errors=True)\n",
        "os.makedirs(KAGGLE_INPUT_PATH, 0o777, exist_ok=True)\n",
        "os.makedirs(KAGGLE_WORKING_PATH, 0o777, exist_ok=True)\n",
        "\n",
        "try:\n",
        "  os.symlink(KAGGLE_INPUT_PATH, os.path.join(\"..\", 'input'), target_is_directory=True)\n",
        "except FileExistsError:\n",
        "  pass\n",
        "try:\n",
        "  os.symlink(KAGGLE_WORKING_PATH, os.path.join(\"..\", 'working'), target_is_directory=True)\n",
        "except FileExistsError:\n",
        "  pass\n",
        "\n",
        "for data_source_mapping in DATA_SOURCE_MAPPING.split(','):\n",
        "    directory, download_url_encoded = data_source_mapping.split(':')\n",
        "    download_url = unquote(download_url_encoded)\n",
        "    filename = urlparse(download_url).path\n",
        "    destination_path = os.path.join(KAGGLE_INPUT_PATH, directory)\n",
        "    try:\n",
        "        with urlopen(download_url) as fileres, NamedTemporaryFile() as tfile:\n",
        "            total_length = fileres.headers['content-length']\n",
        "            print(f'Downloading {directory}, {total_length} bytes compressed')\n",
        "            dl = 0\n",
        "            data = fileres.read(CHUNK_SIZE)\n",
        "            while len(data) > 0:\n",
        "                dl += len(data)\n",
        "                tfile.write(data)\n",
        "                done = int(50 * dl / int(total_length))\n",
        "                sys.stdout.write(f\"\\r[{'=' * done}{' ' * (50-done)}] {dl} bytes downloaded\")\n",
        "                sys.stdout.flush()\n",
        "                data = fileres.read(CHUNK_SIZE)\n",
        "            if filename.endswith('.zip'):\n",
        "              with ZipFile(tfile) as zfile:\n",
        "                zfile.extractall(destination_path)\n",
        "            else:\n",
        "              with tarfile.open(tfile.name) as tarfile:\n",
        "                tarfile.extractall(destination_path)\n",
        "            print(f'\\nDownloaded and uncompressed: {directory}')\n",
        "    except HTTPError as e:\n",
        "        print(f'Failed to load (likely expired) {download_url} to path {destination_path}')\n",
        "        continue\n",
        "    except OSError as e:\n",
        "        print(f'Failed to load {download_url} to path {destination_path}')\n",
        "        continue\n",
        "\n",
        "print('Data source import complete.')\n"
      ],
      "metadata": {
        "id": "wuLdhnerL4iy"
      },
      "cell_type": "code",
      "outputs": [],
      "execution_count": null
    },
    {
      "cell_type": "markdown",
      "source": [
        "## 🚨 [Hold up! Before you go anywhere, you've gotta check out my work with the Rice Leaf Disease Image Dataset.](https://www.kaggle.com/code/ohagwucollinspatrick/rice-leaf-disease-detection-w-cnn-kera/notebook?scriptVersionId=167343668)"
      ],
      "metadata": {
        "id": "1b3saMQNL4i3"
      }
    },
    {
      "cell_type": "markdown",
      "source": [
        "## 🚀 Upvoting and Commenting\n",
        "Hey there! While I've been having a blast tinkering with this dataset, I wouldn't mind a little sprinkle of \"constructive\" feedback and perhaps some generous upvotes, if you're feeling generous. I've been diving headfirst into the world of Data Science for a solid year and a half now, and let me tell ya, witnessing all these jaw-dropping projects on this platform has been quite the ride.\n",
        "\n",
        "### 📝 Housekeeping Stuff:\n",
        "1. So, I thought to myself, \"Hey, why not sprinkle in some emojis? They seem to be the secret sauce for snagging those upvotes.\" Can't hurt, right? 🤓\n",
        "\n",
        "2. Now, here's the scoop: I've noticed that one of our prediction classes is kind of playing hard to get, with fewer samples than the others. And let me tell you, my model's been breaking a sweat trying to figure it out. I've thrown some image augmentation into the mix, and while it's improved overall predictions, that pesky class still isn't playing nice. Any brilliant suggestions will be well appreciated. 💡"
      ],
      "metadata": {
        "id": "q2NmkJzKL4i5"
      }
    },
    {
      "cell_type": "markdown",
      "source": [
        "# 📥 Installing Libraries"
      ],
      "metadata": {
        "id": "-nusnMF3L4i6"
      }
    },
    {
      "cell_type": "code",
      "source": [
        "!pip install livelossplot"
      ],
      "metadata": {
        "_uuid": "8f2839f25d086af736a60e9eeb907d3b93b6e0e5",
        "_cell_guid": "b1076dfc-b9ad-4769-8c92-a6c4dae69d19",
        "_kg_hide-output": true,
        "execution": {
          "iopub.status.busy": "2024-03-16T03:57:12.984958Z",
          "iopub.execute_input": "2024-03-16T03:57:12.985372Z",
          "iopub.status.idle": "2024-03-16T03:57:25.195865Z",
          "shell.execute_reply.started": "2024-03-16T03:57:12.98534Z",
          "shell.execute_reply": "2024-03-16T03:57:25.194706Z"
        },
        "trusted": true,
        "id": "QIHTSYexL4i6"
      },
      "execution_count": null,
      "outputs": []
    },
    {
      "cell_type": "markdown",
      "source": [
        "# ➡️ Importing Libraries"
      ],
      "metadata": {
        "id": "9DBZ6OSML4i7"
      }
    },
    {
      "cell_type": "markdown",
      "source": [
        "> **Libraries imported as needed.**"
      ],
      "metadata": {
        "id": "AouEIEsvL4i7"
      }
    },
    {
      "cell_type": "markdown",
      "source": [
        "# 🪵 Loading Datasets"
      ],
      "metadata": {
        "id": "wENVvKkQL4i8"
      }
    },
    {
      "cell_type": "code",
      "source": [
        "import os\n",
        "import cv2\n",
        "import numpy as np\n",
        "import pandas as pd\n",
        "import matplotlib.pyplot as plt"
      ],
      "metadata": {
        "execution": {
          "iopub.status.busy": "2024-03-16T03:57:25.197836Z",
          "iopub.execute_input": "2024-03-16T03:57:25.198124Z",
          "iopub.status.idle": "2024-03-16T03:57:25.20324Z",
          "shell.execute_reply.started": "2024-03-16T03:57:25.1981Z",
          "shell.execute_reply": "2024-03-16T03:57:25.2023Z"
        },
        "trusted": true,
        "id": "HE3CvBNmL4i8"
      },
      "execution_count": null,
      "outputs": []
    },
    {
      "cell_type": "code",
      "source": [
        "# Define functions for loading and resizing images\n",
        "def load_and_resize_image(file_path, target_shape=(128, 128)):\n",
        "    image = cv2.imread(file_path)\n",
        "    resized_image = cv2.resize(image, target_shape)\n",
        "    return resized_image"
      ],
      "metadata": {
        "execution": {
          "iopub.status.busy": "2024-03-16T03:57:25.204638Z",
          "iopub.execute_input": "2024-03-16T03:57:25.205011Z",
          "iopub.status.idle": "2024-03-16T03:57:25.216255Z",
          "shell.execute_reply.started": "2024-03-16T03:57:25.204977Z",
          "shell.execute_reply": "2024-03-16T03:57:25.215283Z"
        },
        "trusted": true,
        "id": "zRdQHHGkL4i9"
      },
      "execution_count": null,
      "outputs": []
    },
    {
      "cell_type": "code",
      "source": [
        "# Define the function to load each image class (target) stored by individual directory.\n",
        "# Each class directory containing their respective images\n",
        "def load_image_class_by_directory(image_dir):\n",
        "    # Load and resize images\n",
        "    image_files = os.listdir(image_dir)\n",
        "    images = []\n",
        "    for file in image_files:\n",
        "        if file.endswith('.jpg') or file.endswith('.JPG'):  # Assuming images are in jpg or JPG format\n",
        "            image_path = os.path.join(image_dir, file)\n",
        "            resized_image = load_and_resize_image(image_path)\n",
        "            images.append(resized_image)\n",
        "\n",
        "    print(f\"Num of images: {len(images)}\")\n",
        "    print(f\"Single image shape before flattening: {images[0].shape}\")\n",
        "    return images"
      ],
      "metadata": {
        "execution": {
          "iopub.status.busy": "2024-03-16T03:57:25.220512Z",
          "iopub.execute_input": "2024-03-16T03:57:25.22081Z",
          "iopub.status.idle": "2024-03-16T03:57:25.227815Z",
          "shell.execute_reply.started": "2024-03-16T03:57:25.220785Z",
          "shell.execute_reply": "2024-03-16T03:57:25.226876Z"
        },
        "trusted": true,
        "id": "YFDIBSCuL4i9"
      },
      "execution_count": null,
      "outputs": []
    },
    {
      "cell_type": "code",
      "source": [
        "# Display some images\n",
        "def display_images(images, num_images_to_display = 6):\n",
        "    fig, axes = plt.subplots(1, num_images_to_display, figsize=(20, 5))\n",
        "    for i in range(num_images_to_display):\n",
        "        # Convert the image to a supported depth (e.g., CV_8U) before color conversion\n",
        "        image = images[i].astype(np.uint8)\n",
        "        axes[i].imshow(cv2.cvtColor(image, cv2.COLOR_BGR2RGB))  # Convert BGR to RGB for displaying with matplotlib\n",
        "        axes[i].axis('off')\n",
        "    plt.show()"
      ],
      "metadata": {
        "execution": {
          "iopub.status.busy": "2024-03-16T03:57:25.22887Z",
          "iopub.execute_input": "2024-03-16T03:57:25.229121Z",
          "iopub.status.idle": "2024-03-16T03:57:25.238351Z",
          "shell.execute_reply.started": "2024-03-16T03:57:25.229099Z",
          "shell.execute_reply": "2024-03-16T03:57:25.237392Z"
        },
        "trusted": true,
        "id": "iRkStbQXL4i9"
      },
      "execution_count": null,
      "outputs": []
    },
    {
      "cell_type": "code",
      "source": [
        "# Define the directory containing images\n",
        "image_dir = \"/kaggle/input/corn-or-maize-leaf-disease-dataset/data/Blight\"\n",
        "images_Blight = load_image_class_by_directory(image_dir)\n",
        "display_images(images_Blight)"
      ],
      "metadata": {
        "execution": {
          "iopub.status.busy": "2024-03-16T03:57:25.239408Z",
          "iopub.execute_input": "2024-03-16T03:57:25.240262Z",
          "iopub.status.idle": "2024-03-16T03:57:32.530776Z",
          "shell.execute_reply.started": "2024-03-16T03:57:25.240228Z",
          "shell.execute_reply": "2024-03-16T03:57:32.529771Z"
        },
        "trusted": true,
        "id": "P_IbZf9DL4i-"
      },
      "execution_count": null,
      "outputs": []
    },
    {
      "cell_type": "code",
      "source": [
        "# Define the directory containing images\n",
        "image_dir = \"/kaggle/input/corn-or-maize-leaf-disease-dataset/data/Common_Rust\"\n",
        "images_Common_Rust = load_image_class_by_directory(image_dir)\n",
        "display_images(images_Common_Rust)"
      ],
      "metadata": {
        "execution": {
          "iopub.status.busy": "2024-03-16T03:57:32.532127Z",
          "iopub.execute_input": "2024-03-16T03:57:32.532517Z",
          "iopub.status.idle": "2024-03-16T03:57:39.38434Z",
          "shell.execute_reply.started": "2024-03-16T03:57:32.532464Z",
          "shell.execute_reply": "2024-03-16T03:57:39.38345Z"
        },
        "trusted": true,
        "id": "vZc-L20fL4i-"
      },
      "execution_count": null,
      "outputs": []
    },
    {
      "cell_type": "code",
      "source": [
        "# Define the directory containing images\n",
        "image_dir = \"/kaggle/input/corn-or-maize-leaf-disease-dataset/data/Gray_Leaf_Spot\"\n",
        "images_Gray_Leaf_Spot = load_image_class_by_directory(image_dir)\n",
        "display_images(images_Gray_Leaf_Spot)"
      ],
      "metadata": {
        "execution": {
          "iopub.status.busy": "2024-03-16T03:57:39.38554Z",
          "iopub.execute_input": "2024-03-16T03:57:39.385869Z",
          "iopub.status.idle": "2024-03-16T03:57:42.418053Z",
          "shell.execute_reply.started": "2024-03-16T03:57:39.385841Z",
          "shell.execute_reply": "2024-03-16T03:57:42.417071Z"
        },
        "trusted": true,
        "id": "KrSqaQD7L4i-"
      },
      "execution_count": null,
      "outputs": []
    },
    {
      "cell_type": "code",
      "source": [
        "# Define the directory containing images\n",
        "image_dir = \"/kaggle/input/corn-or-maize-leaf-disease-dataset/data/Healthy\"\n",
        "images_Healthy = load_image_class_by_directory(image_dir)\n",
        "display_images(images_Healthy)"
      ],
      "metadata": {
        "execution": {
          "iopub.status.busy": "2024-03-16T03:57:42.419276Z",
          "iopub.execute_input": "2024-03-16T03:57:42.419627Z",
          "iopub.status.idle": "2024-03-16T03:57:46.205416Z",
          "shell.execute_reply.started": "2024-03-16T03:57:42.419598Z",
          "shell.execute_reply": "2024-03-16T03:57:46.204462Z"
        },
        "trusted": true,
        "id": "RrRTcJ_8L4i-"
      },
      "execution_count": null,
      "outputs": []
    },
    {
      "cell_type": "markdown",
      "source": [
        "# 🔎 Inspecting Samples"
      ],
      "metadata": {
        "id": "W7Kitvk7L4i_"
      }
    },
    {
      "cell_type": "code",
      "source": [
        "# Define class labels\n",
        "classes = {'Blight': 0, 'Common_Rust': 1, 'Gray_Leaf_Spot': 2, 'Healthy': 3}\n",
        "inverted_classes = {0: 'Blight', 1: 'Common_Rust', 2: 'Gray_Leaf_Spot', 3: 'Healthy'}\n",
        "\n",
        "images_lst_lst = [images_Blight, images_Common_Rust, images_Gray_Leaf_Spot, images_Healthy]\n",
        "\n",
        "# Dictionary to store the number of image samples\n",
        "classes_dict = {}\n",
        "for i, images in enumerate(images_lst_lst):\n",
        "    classes_dict.update({inverted_classes[i]: len(images)})\n",
        "    print(f'Disease: {inverted_classes[i]} --- Images: {len(images)}')"
      ],
      "metadata": {
        "execution": {
          "iopub.status.busy": "2024-03-16T03:57:46.210286Z",
          "iopub.execute_input": "2024-03-16T03:57:46.210732Z",
          "iopub.status.idle": "2024-03-16T03:57:46.217839Z",
          "shell.execute_reply.started": "2024-03-16T03:57:46.210701Z",
          "shell.execute_reply": "2024-03-16T03:57:46.216999Z"
        },
        "trusted": true,
        "id": "tcwXEKIBL4i_"
      },
      "execution_count": null,
      "outputs": []
    },
    {
      "cell_type": "code",
      "source": [
        "# Now, plot the classes\n",
        "plt.bar(*zip(*classes_dict.items()))\n",
        "plt.show()"
      ],
      "metadata": {
        "id": "haSKOY89L4i_"
      },
      "execution_count": null,
      "outputs": []
    },
    {
      "cell_type": "markdown",
      "source": [
        "There is a **class imbalance** with fewer cases of **Gray_Leaf_Spot**. This may affect model's ability to recognize the class, or do so with high confidence at least."
      ],
      "metadata": {
        "id": "ojFO_USML4i_"
      }
    },
    {
      "cell_type": "markdown",
      "source": [
        "# 🏷️ Assigning Class Labels\n",
        "Pick the number of images to set aside as **test** set. The algorithm should not see this data as it will be used for later evaluations.\n",
        "\n",
        "Add a class label for each image. This is done by first flattening the image from 2D to 1D, and then appending the class number to it (such as 0 for Blight, etc.)"
      ],
      "metadata": {
        "id": "0l3x5MtUL4i_"
      }
    },
    {
      "cell_type": "code",
      "source": [
        "# Function to flatten the RGB values from 2D to 1D, returns a numpy array\n",
        "def flatten_images(images):\n",
        "    data_flattened = []\n",
        "    for image in images:\n",
        "        flattened_image = image.reshape(-1)  # Flatten the image\n",
        "        data_flattened.append(flattened_image)\n",
        "\n",
        "\n",
        "    print(f\"Num of images: {len(data_flattened)}\")\n",
        "    print(f\"Single image shape after flattening: {data_flattened[0].shape}\")\n",
        "\n",
        "    # Convert data to numpy array for further processing\n",
        "    data_flattened = np.array(data_flattened)\n",
        "    return data_flattened"
      ],
      "metadata": {
        "execution": {
          "iopub.status.busy": "2024-03-16T03:57:46.21902Z",
          "iopub.execute_input": "2024-03-16T03:57:46.219306Z",
          "iopub.status.idle": "2024-03-16T03:57:46.231001Z",
          "shell.execute_reply.started": "2024-03-16T03:57:46.219283Z",
          "shell.execute_reply": "2024-03-16T03:57:46.230138Z"
        },
        "trusted": true,
        "id": "15BkdwvOL4i_"
      },
      "execution_count": null,
      "outputs": []
    },
    {
      "cell_type": "code",
      "source": [
        "# Function to assign class labels: returns a numpy array\n",
        "def assign_image_class_label(images, class_label = int):\n",
        "    data_labeled = []\n",
        "    # Flatten the images\n",
        "    data_flattened = flatten_images(images)\n",
        "\n",
        "    for image in data_flattened:\n",
        "        # Assign class label\n",
        "        data_labeled.append(np.concatenate([image, [class_label]]))\n",
        "\n",
        "    print(f\"Num of images: {len(data_labeled)}\")\n",
        "    print(f\"Single data shape with label: {data_labeled[0].shape} --- Class label: {class_label}\\n\")\n",
        "\n",
        "    # Convert data to numpy array for further processing\n",
        "    data_labeled = np.array(data_labeled)\n",
        "    return data_labeled"
      ],
      "metadata": {
        "execution": {
          "iopub.status.busy": "2024-03-16T03:57:46.232186Z",
          "iopub.execute_input": "2024-03-16T03:57:46.232445Z",
          "iopub.status.idle": "2024-03-16T03:57:46.246055Z",
          "shell.execute_reply.started": "2024-03-16T03:57:46.232422Z",
          "shell.execute_reply": "2024-03-16T03:57:46.245121Z"
        },
        "trusted": true,
        "id": "yAsx4VqsL4jA"
      },
      "execution_count": null,
      "outputs": []
    },
    {
      "cell_type": "code",
      "source": [
        "# Function to concatenate the arrays into a pandas dataframe, horizontally\n",
        "def concat_arrays_to_dataframe(arrays = []):\n",
        "    # Combine to a single dataframe, vertically\n",
        "    dataset = np.concatenate(arrays, axis = 0)\n",
        "\n",
        "    # Number of pixel columns, excluding the last label column\n",
        "    num_pix = dataset.shape[1] - 1\n",
        "\n",
        "    # Modify the column names\n",
        "    col_lst = [f\"pixel{col}\" for col in range(num_pix)]\n",
        "    # Append the name of the last column as label\n",
        "    col_lst.append(\"label\")\n",
        "\n",
        "    # Convert to a dataframe and add column names\n",
        "    df_dataset = pd.DataFrame(dataset, columns = col_lst)\n",
        "\n",
        "    return df_dataset"
      ],
      "metadata": {
        "execution": {
          "iopub.status.busy": "2024-03-16T03:57:46.247304Z",
          "iopub.execute_input": "2024-03-16T03:57:46.247605Z",
          "iopub.status.idle": "2024-03-16T03:57:46.256581Z",
          "shell.execute_reply.started": "2024-03-16T03:57:46.247582Z",
          "shell.execute_reply": "2024-03-16T03:57:46.255729Z"
        },
        "trusted": true,
        "id": "C68qTWsVL4jA"
      },
      "execution_count": null,
      "outputs": []
    },
    {
      "cell_type": "code",
      "source": [
        "# Split the image files into train - test set.\n",
        "def split_train_test_files(images_lst_lst = [], num_test_set = int):\n",
        "    train_images_lst_lst = []\n",
        "    test_images_lst_lst = []\n",
        "    # Iterate through the first class of images\n",
        "    for images in images_lst_lst:\n",
        "        train_set = images[num_test_set:]\n",
        "        test_set = images[:num_test_set]\n",
        "\n",
        "        train_images_lst_lst.append(train_set)\n",
        "        test_images_lst_lst.append(test_set)\n",
        "\n",
        "    return train_images_lst_lst, test_images_lst_lst"
      ],
      "metadata": {
        "execution": {
          "iopub.status.busy": "2024-03-16T03:57:46.257548Z",
          "iopub.execute_input": "2024-03-16T03:57:46.257842Z",
          "iopub.status.idle": "2024-03-16T03:57:46.266643Z",
          "shell.execute_reply.started": "2024-03-16T03:57:46.25781Z",
          "shell.execute_reply": "2024-03-16T03:57:46.265761Z"
        },
        "trusted": true,
        "id": "-Ailja0lL4jA"
      },
      "execution_count": null,
      "outputs": []
    },
    {
      "cell_type": "code",
      "source": [
        "# Number of images to set aside as test set per class\n",
        "num_test_set = 20\n",
        "\n",
        "# Split the image files into train - test set.\n",
        "train_images, test_images = split_train_test_files(images_lst_lst, num_test_set)"
      ],
      "metadata": {
        "execution": {
          "iopub.status.busy": "2024-03-16T03:57:46.2678Z",
          "iopub.execute_input": "2024-03-16T03:57:46.268198Z",
          "iopub.status.idle": "2024-03-16T03:57:46.283681Z",
          "shell.execute_reply.started": "2024-03-16T03:57:46.268167Z",
          "shell.execute_reply": "2024-03-16T03:57:46.282951Z"
        },
        "trusted": true,
        "id": "DCgzefh-L4jA"
      },
      "execution_count": null,
      "outputs": []
    },
    {
      "cell_type": "code",
      "source": [
        "images_lst_array = []\n",
        "# Iterate through the classes, the class index i will represent the class name/label\n",
        "for i, images in enumerate(train_images):\n",
        "    # Assign label to each of the images\n",
        "    labeled = assign_image_class_label(images, i)\n",
        "    images_lst_array.append(labeled)"
      ],
      "metadata": {
        "execution": {
          "iopub.status.busy": "2024-03-16T03:57:46.284811Z",
          "iopub.execute_input": "2024-03-16T03:57:46.285188Z",
          "iopub.status.idle": "2024-03-16T03:57:47.068685Z",
          "shell.execute_reply.started": "2024-03-16T03:57:46.285156Z",
          "shell.execute_reply": "2024-03-16T03:57:47.067772Z"
        },
        "trusted": true,
        "id": "kCHqaERRL4jA"
      },
      "execution_count": null,
      "outputs": []
    },
    {
      "cell_type": "code",
      "source": [
        "# Concatenate arrays to dataframe\n",
        "df_images = concat_arrays_to_dataframe(images_lst_array)\n",
        "df_images.head()"
      ],
      "metadata": {
        "execution": {
          "iopub.status.busy": "2024-03-16T03:57:47.069889Z",
          "iopub.execute_input": "2024-03-16T03:57:47.070172Z",
          "iopub.status.idle": "2024-03-16T03:57:47.678501Z",
          "shell.execute_reply.started": "2024-03-16T03:57:47.070148Z",
          "shell.execute_reply": "2024-03-16T03:57:47.677543Z"
        },
        "trusted": true,
        "id": "onUZUzXZL4jA"
      },
      "execution_count": null,
      "outputs": []
    },
    {
      "cell_type": "markdown",
      "source": [
        "# ✂️ Train Val Split"
      ],
      "metadata": {
        "id": "fvJdvA8VL4jA"
      }
    },
    {
      "cell_type": "code",
      "source": [
        "from sklearn.model_selection import train_test_split\n",
        "import random"
      ],
      "metadata": {
        "execution": {
          "iopub.status.busy": "2024-03-16T03:57:47.679896Z",
          "iopub.execute_input": "2024-03-16T03:57:47.680298Z",
          "iopub.status.idle": "2024-03-16T03:57:47.684918Z",
          "shell.execute_reply.started": "2024-03-16T03:57:47.680264Z",
          "shell.execute_reply": "2024-03-16T03:57:47.683949Z"
        },
        "trusted": true,
        "id": "ssSQClL3L4jB"
      },
      "execution_count": null,
      "outputs": []
    },
    {
      "cell_type": "code",
      "source": [
        "X_images = df_images.drop(\"label\", axis = 1)\n",
        "y_images = df_images[\"label\"]"
      ],
      "metadata": {
        "execution": {
          "iopub.status.busy": "2024-03-16T03:57:47.68596Z",
          "iopub.execute_input": "2024-03-16T03:57:47.686194Z",
          "iopub.status.idle": "2024-03-16T03:57:48.250909Z",
          "shell.execute_reply.started": "2024-03-16T03:57:47.686173Z",
          "shell.execute_reply": "2024-03-16T03:57:48.249785Z"
        },
        "trusted": true,
        "id": "nJPLLJTZL4jB"
      },
      "execution_count": null,
      "outputs": []
    },
    {
      "cell_type": "code",
      "source": [
        "X_train, X_val, y_train, y_val = train_test_split(X_images, y_images, test_size = 0.25, random_state = 2, shuffle=True)\n",
        "print(\"Shape of train X:\", X_train.shape)\n",
        "print(\"Shape of train Y:\", y_train.shape)\n",
        "print(\"Shape of val X:\", X_val.shape)\n",
        "print(\"Shape of val Y:\", y_val.shape)"
      ],
      "metadata": {
        "execution": {
          "iopub.status.busy": "2024-03-16T03:57:48.252242Z",
          "iopub.execute_input": "2024-03-16T03:57:48.252607Z",
          "iopub.status.idle": "2024-03-16T03:57:48.757942Z",
          "shell.execute_reply.started": "2024-03-16T03:57:48.252578Z",
          "shell.execute_reply": "2024-03-16T03:57:48.756788Z"
        },
        "trusted": true,
        "id": "6Kvws7BmL4jB"
      },
      "execution_count": null,
      "outputs": []
    },
    {
      "cell_type": "code",
      "source": [
        "# Display some images before scaling\n",
        "X_train_RGB = np.array(X_train).reshape(-1, 128, 128, 3)\n",
        "display_images(X_train_RGB)"
      ],
      "metadata": {
        "execution": {
          "iopub.status.busy": "2024-03-16T03:57:48.759189Z",
          "iopub.execute_input": "2024-03-16T03:57:48.759537Z",
          "iopub.status.idle": "2024-03-16T03:57:49.671183Z",
          "shell.execute_reply.started": "2024-03-16T03:57:48.759505Z",
          "shell.execute_reply": "2024-03-16T03:57:49.670183Z"
        },
        "trusted": true,
        "id": "-yxb-NvzL4jB"
      },
      "execution_count": null,
      "outputs": []
    },
    {
      "cell_type": "code",
      "source": [
        "# Display some images before scaling\n",
        "X_val_RGB = np.array(X_val).reshape(-1, 128, 128, 3)\n",
        "display_images(X_val_RGB)"
      ],
      "metadata": {
        "execution": {
          "iopub.status.busy": "2024-03-16T03:57:49.672382Z",
          "iopub.execute_input": "2024-03-16T03:57:49.672691Z",
          "iopub.status.idle": "2024-03-16T03:57:50.224553Z",
          "shell.execute_reply.started": "2024-03-16T03:57:49.672666Z",
          "shell.execute_reply": "2024-03-16T03:57:50.223631Z"
        },
        "trusted": true,
        "id": "fXvW0Q5cL4jB"
      },
      "execution_count": null,
      "outputs": []
    },
    {
      "cell_type": "markdown",
      "source": [
        "# 🆗 Normalizing Dataset"
      ],
      "metadata": {
        "id": "SwyEqz-zL4jC"
      }
    },
    {
      "cell_type": "code",
      "source": [
        "from sklearn.preprocessing import MinMaxScaler"
      ],
      "metadata": {
        "execution": {
          "iopub.status.busy": "2024-03-16T03:57:50.225701Z",
          "iopub.execute_input": "2024-03-16T03:57:50.225977Z",
          "iopub.status.idle": "2024-03-16T03:57:50.230886Z",
          "shell.execute_reply.started": "2024-03-16T03:57:50.225952Z",
          "shell.execute_reply": "2024-03-16T03:57:50.22983Z"
        },
        "trusted": true,
        "id": "rt5A8oo8L4jC"
      },
      "execution_count": null,
      "outputs": []
    },
    {
      "cell_type": "code",
      "source": [
        "# The pixel values ranges from 0 to 255. The MinMaxScaler makes it from 0 to 1.\n",
        "# This reduces the magnitude sensitivity of the activation function for the choosen ML algorithm.\n",
        "scaler = MinMaxScaler(feature_range = (0, 1))\n",
        "\n",
        "# Convert to numpy array to remove feature names before fitting\n",
        "scaler = scaler.fit(np.array(X_train))\n",
        "X_train_np = scaler.transform(np.array(X_train))\n",
        "X_val_np = scaler.transform(np.array(X_val))\n",
        "\n",
        "# Reshape to RGB format\n",
        "X_train_RGB = np.array(X_train_np).reshape(-1, 128, 128, 3)\n",
        "X_val_RGB = np.array(X_val_np).reshape(-1, 128, 128, 3)\n",
        "\n",
        "# Reshape targets\n",
        "y_train = y_train.values.reshape(len(y_train), 1)\n",
        "y_val = y_val.values.reshape(len(y_val), 1)"
      ],
      "metadata": {
        "execution": {
          "iopub.status.busy": "2024-03-16T03:57:50.232134Z",
          "iopub.execute_input": "2024-03-16T03:57:50.232532Z",
          "iopub.status.idle": "2024-03-16T03:57:53.478048Z",
          "shell.execute_reply.started": "2024-03-16T03:57:50.232496Z",
          "shell.execute_reply": "2024-03-16T03:57:53.477204Z"
        },
        "trusted": true,
        "id": "0ZfxByF7L4jC"
      },
      "execution_count": null,
      "outputs": []
    },
    {
      "cell_type": "code",
      "source": [
        "print(\"Shape of train X:\", X_train_RGB.shape)\n",
        "print(\"Shape of train Y:\", y_train.shape)\n",
        "print(\"Shape of val X:\", X_val_RGB.shape)\n",
        "print(\"Shape of val Y:\", y_val.shape)"
      ],
      "metadata": {
        "execution": {
          "iopub.status.busy": "2024-03-16T03:57:53.479196Z",
          "iopub.execute_input": "2024-03-16T03:57:53.479493Z",
          "iopub.status.idle": "2024-03-16T03:57:53.484935Z",
          "shell.execute_reply.started": "2024-03-16T03:57:53.479457Z",
          "shell.execute_reply": "2024-03-16T03:57:53.484015Z"
        },
        "trusted": true,
        "id": "tk2kalfXL4jC"
      },
      "execution_count": null,
      "outputs": []
    },
    {
      "cell_type": "markdown",
      "source": [
        "# 🏗️ Building Model"
      ],
      "metadata": {
        "id": "VlUXdz0BL4jC"
      }
    },
    {
      "cell_type": "code",
      "source": [
        "from tensorflow.keras.models import Sequential\n",
        "from tensorflow.keras.layers import Conv2D, MaxPooling2D, Flatten, Dense, Dropout, Input\n",
        "from tensorflow.keras.optimizers import SGD\n",
        "from tensorflow.keras.preprocessing.image import ImageDataGenerator\n",
        "\n",
        "# To avoid overfitting\n",
        "from tensorflow.keras.callbacks import EarlyStopping\n",
        "\n",
        "# Target variable needs one-hot encoding to ensure each example has a probability of 1.0 for its actual class and 0.0 for others.\n",
        "# Use Keras to_categorical() function for achieving this.\n",
        "from tensorflow.keras.utils import to_categorical\n",
        "\n",
        "# Draw live chart of accuracy of neural network\n",
        "from livelossplot import PlotLossesKeras"
      ],
      "metadata": {
        "execution": {
          "iopub.status.busy": "2024-03-16T03:57:53.486028Z",
          "iopub.execute_input": "2024-03-16T03:57:53.486293Z",
          "iopub.status.idle": "2024-03-16T03:57:53.495655Z",
          "shell.execute_reply.started": "2024-03-16T03:57:53.486271Z",
          "shell.execute_reply": "2024-03-16T03:57:53.494841Z"
        },
        "trusted": true,
        "id": "ajCfqdXeL4jH"
      },
      "execution_count": null,
      "outputs": []
    },
    {
      "cell_type": "code",
      "source": [
        "# Shape of a single image\n",
        "input_shape = X_train_RGB[0].shape\n",
        "num_train_images = len(X_train_RGB)\n",
        "# Number of classes to be predicted\n",
        "num_classes = 4\n",
        "print(f'Single image shape: {input_shape}')\n",
        "print(f'Number of train images: {num_train_images}')"
      ],
      "metadata": {
        "execution": {
          "iopub.status.busy": "2024-03-16T03:57:53.496632Z",
          "iopub.execute_input": "2024-03-16T03:57:53.496923Z",
          "iopub.status.idle": "2024-03-16T03:57:53.507005Z",
          "shell.execute_reply.started": "2024-03-16T03:57:53.496899Z",
          "shell.execute_reply": "2024-03-16T03:57:53.506108Z"
        },
        "trusted": true,
        "id": "MY4RXfgCL4jI"
      },
      "execution_count": null,
      "outputs": []
    },
    {
      "cell_type": "markdown",
      "source": [
        "Here comes the model architecture and its components."
      ],
      "metadata": {
        "id": "o6PMSVCZL4jI"
      }
    },
    {
      "cell_type": "code",
      "source": [
        "# Initialize the sequential model\n",
        "model = Sequential()\n",
        "\n",
        "# Add an input layer with the specified input shape\n",
        "model.add(Input(shape=input_shape))\n",
        "\n",
        "# Add a convolutional layer with 128 filters of size 3x3, using ReLU activation function\n",
        "model.add(Conv2D(128, (3, 3), activation=\"relu\"))\n",
        "\n",
        "# Add a max-pooling layer with a filter size of 2x2\n",
        "model.add(MaxPooling2D((2, 2)))\n",
        "\n",
        "# Add dropout regularization to randomly omit neurons\n",
        "model.add(Dropout(0.5))\n",
        "\n",
        "# Add another convolutional layer with 64 filters of size 3x3, using ReLU activation function\n",
        "model.add(Conv2D(64, (3, 3), activation=\"relu\"))\n",
        "\n",
        "# Add another max-pooling layer with a filter size of 2x2\n",
        "model.add(MaxPooling2D((2, 2)))\n",
        "\n",
        "# Add dropout regularization to randomly omit neurons\n",
        "model.add(Dropout(0.5))\n",
        "\n",
        "# Flatten the output of the previous layers\n",
        "model.add(Flatten())\n",
        "\n",
        "# Add a dense layer with 256 neurons and ReLU activation function\n",
        "model.add(Dense(256, activation=\"relu\"))\n",
        "\n",
        "# Add dropout regularization to randomly omit neurons\n",
        "model.add(Dropout(0.5))\n",
        "\n",
        "# Add a dense output layer with the number of classes and softmax activation function\n",
        "model.add(Dense(num_classes, activation=\"softmax\"))\n",
        "\n",
        "# Compile the model with categorical crossentropy loss and Stochastic Gradient Descent optimizer\n",
        "opt = SGD(learning_rate=0.0001, momentum=0.9)\n",
        "model.compile(loss=\"categorical_crossentropy\", optimizer=opt, metrics=[\"accuracy\"])\n",
        "\n",
        "# Display a summary of the model architecture\n",
        "model.summary()"
      ],
      "metadata": {
        "execution": {
          "iopub.status.busy": "2024-03-16T03:57:53.511904Z",
          "iopub.execute_input": "2024-03-16T03:57:53.51215Z",
          "iopub.status.idle": "2024-03-16T03:57:53.630945Z",
          "shell.execute_reply.started": "2024-03-16T03:57:53.51213Z",
          "shell.execute_reply": "2024-03-16T03:57:53.629995Z"
        },
        "trusted": true,
        "id": "yAV-Ds50L4jI"
      },
      "execution_count": null,
      "outputs": []
    },
    {
      "cell_type": "code",
      "source": [
        "# Initialize Image Augmentation\n",
        "train_datagen = ImageDataGenerator(rotation_range = 10,  # rotation\n",
        "                                   width_shift_range = 0.1,  # horizontal shift\n",
        "                                   height_shift_range = 0.1,\n",
        "                                   zoom_range = 0.1) # zoom"
      ],
      "metadata": {
        "execution": {
          "iopub.status.busy": "2024-03-16T03:57:53.632263Z",
          "iopub.execute_input": "2024-03-16T03:57:53.632632Z",
          "iopub.status.idle": "2024-03-16T03:57:53.637551Z",
          "shell.execute_reply.started": "2024-03-16T03:57:53.632601Z",
          "shell.execute_reply": "2024-03-16T03:57:53.63666Z"
        },
        "trusted": true,
        "id": "waSkZqUPL4jI"
      },
      "execution_count": null,
      "outputs": []
    },
    {
      "cell_type": "code",
      "source": [
        "# Initialize regularization parameters - how many epochs to wait before training stops, if there is no further improvement\n",
        "monitor_val_loss = EarlyStopping(monitor = \"val_loss\",\n",
        "                                 min_delta = 1e-3,\n",
        "                                 patience = 20, # Wait 5 more epochs\n",
        "                                 verbose = 1,\n",
        "                                 mode = \"auto\",\n",
        "                                 restore_best_weights = True)"
      ],
      "metadata": {
        "execution": {
          "iopub.status.busy": "2024-03-16T03:57:53.638594Z",
          "iopub.execute_input": "2024-03-16T03:57:53.638858Z",
          "iopub.status.idle": "2024-03-16T03:57:53.647172Z",
          "shell.execute_reply.started": "2024-03-16T03:57:53.638835Z",
          "shell.execute_reply": "2024-03-16T03:57:53.646357Z"
        },
        "trusted": true,
        "id": "zLW4QrIEL4jJ"
      },
      "execution_count": null,
      "outputs": []
    },
    {
      "cell_type": "code",
      "source": [
        "# Target variable needs one-hot encoding to ensure each example has a probability of 1.0 for its actual class and 0.0 for others.\n",
        "# Use Keras to_categorical() function for achieving this.\n",
        "\n",
        "epochs = 100\n",
        "batch_size = 64\n",
        "\n",
        "# Using the flow method to augment the image on the fly.\n",
        "training_data = train_datagen.flow(X_train_RGB, to_categorical(y_train), batch_size = batch_size)\n",
        "# Model evaluation\n",
        "validation_data = (X_val_RGB, to_categorical(y_val))\n",
        "\n",
        "history = model.fit(training_data,\n",
        "                    epochs = epochs,\n",
        "                    steps_per_epoch = num_train_images // batch_size, # Number of iterations per epoch\n",
        "                    batch_size = batch_size,\n",
        "                    validation_data = validation_data,\n",
        "                    callbacks = [PlotLossesKeras(), monitor_val_loss], #live chart\n",
        "                    verbose = 1\n",
        "                   )"
      ],
      "metadata": {
        "execution": {
          "iopub.status.busy": "2024-03-16T03:57:53.648338Z",
          "iopub.execute_input": "2024-03-16T03:57:53.648683Z",
          "iopub.status.idle": "2024-03-16T04:08:47.516224Z",
          "shell.execute_reply.started": "2024-03-16T03:57:53.648658Z",
          "shell.execute_reply": "2024-03-16T04:08:47.515396Z"
        },
        "trusted": true,
        "id": "f8VIn6EGL4jJ"
      },
      "execution_count": null,
      "outputs": []
    },
    {
      "cell_type": "code",
      "source": [
        "# Save model\n",
        "model.save(\"/kaggle/working/disease_detector_model.keras\")"
      ],
      "metadata": {
        "execution": {
          "iopub.status.busy": "2024-03-16T04:08:47.51764Z",
          "iopub.execute_input": "2024-03-16T04:08:47.518048Z",
          "iopub.status.idle": "2024-03-16T04:08:48.050207Z",
          "shell.execute_reply.started": "2024-03-16T04:08:47.518014Z",
          "shell.execute_reply": "2024-03-16T04:08:48.049129Z"
        },
        "trusted": true,
        "id": "B1jzeSy3L4jJ"
      },
      "execution_count": null,
      "outputs": []
    },
    {
      "cell_type": "markdown",
      "source": [
        "# 🧐 Evaluating Model\n",
        " Recall that first n images haven't been seen by the algorithm."
      ],
      "metadata": {
        "id": "LldftoQSL4jJ"
      }
    },
    {
      "cell_type": "code",
      "source": [
        "# Function to scale and reshape the images for each class\n",
        "def scale_and_reshape_images(flattened_images_lst = []):\n",
        "    images_scaled_RGB_lst = []\n",
        "    for images in flattened_images_lst:\n",
        "        # Scale images using same scaller used for the train and val set\n",
        "        images_scaled = scaler.transform(images)\n",
        "        # Reshape to RGB format\n",
        "        images_scaled_RGB = np.array(images_scaled).reshape(-1, 128, 128, 3)\n",
        "\n",
        "        images_scaled_RGB_lst.append(images_scaled_RGB)\n",
        "    return images_scaled_RGB_lst"
      ],
      "metadata": {
        "execution": {
          "iopub.status.busy": "2024-03-16T04:08:48.051554Z",
          "iopub.execute_input": "2024-03-16T04:08:48.051848Z",
          "iopub.status.idle": "2024-03-16T04:08:48.057617Z",
          "shell.execute_reply.started": "2024-03-16T04:08:48.051824Z",
          "shell.execute_reply": "2024-03-16T04:08:48.056544Z"
        },
        "trusted": true,
        "id": "dDWW9qK1L4jJ"
      },
      "execution_count": null,
      "outputs": []
    },
    {
      "cell_type": "code",
      "source": [
        "# Display a single image\n",
        "def display_image(image_single):\n",
        "    image_flat = image_single.reshape(1, -1) # Flatten image\n",
        "    image_inv = scaler.inverse_transform(image_flat) # Inverse transform image\n",
        "    image_reshaped = image_inv.reshape(128, 128, 3)\n",
        "\n",
        "    image = image_reshaped.astype(np.uint8)\n",
        "    plt.imshow(cv2.cvtColor(image, cv2.COLOR_BGR2RGB))\n",
        "    plt.show()"
      ],
      "metadata": {
        "execution": {
          "iopub.status.busy": "2024-03-16T04:08:48.059047Z",
          "iopub.execute_input": "2024-03-16T04:08:48.059386Z",
          "iopub.status.idle": "2024-03-16T04:08:48.068449Z",
          "shell.execute_reply.started": "2024-03-16T04:08:48.059353Z",
          "shell.execute_reply": "2024-03-16T04:08:48.067525Z"
        },
        "trusted": true,
        "id": "R3NcyhZoL4jJ"
      },
      "execution_count": null,
      "outputs": []
    },
    {
      "cell_type": "code",
      "source": [
        "# Interprete model prediction: returns the predicted class and the confidence level in %\n",
        "def interpret_model_prediction(predictions):\n",
        "    # Convert inferences to list and\n",
        "    pred_lst = predictions[0,:].tolist()\n",
        "    # Get the max value\n",
        "    max_proba = max(pred_lst)\n",
        "    # Get the index position of the max_probability\n",
        "    pred_idx = pred_lst.index(max_proba)\n",
        "\n",
        "    return pred_idx, max_proba"
      ],
      "metadata": {
        "execution": {
          "iopub.status.busy": "2024-03-16T04:08:48.069606Z",
          "iopub.execute_input": "2024-03-16T04:08:48.069885Z",
          "iopub.status.idle": "2024-03-16T04:08:48.083292Z",
          "shell.execute_reply.started": "2024-03-16T04:08:48.069862Z",
          "shell.execute_reply": "2024-03-16T04:08:48.08252Z"
        },
        "trusted": true,
        "id": "zU_IYYbjL4jJ"
      },
      "execution_count": null,
      "outputs": []
    },
    {
      "cell_type": "code",
      "source": [
        "# Define the function to make the inferences/predictions.\n",
        "# Takes the actual value (String) and the image index (int from 0 to n, where n is the num_test_set)\n",
        "def make_predictions(scaled_RGB_lst, image_class = '', image_idx = int):\n",
        "    # Get the numerical value of the class form the defined classes dictionary\n",
        "    class_val = classes[image_class]\n",
        "\n",
        "    # Get the single image\n",
        "    image_single = scaled_RGB_lst[class_val][image_idx]\n",
        "\n",
        "    # Make prediction for one image. Has to be reshaped\n",
        "    pred = model.predict(image_single.reshape(1, 128, 128, 3))\n",
        "\n",
        "    # Interpret model predictions\n",
        "    pred_class, confidence = interpret_model_prediction(pred)\n",
        "\n",
        "    # Display image\n",
        "    display_image(image_single)\n",
        "\n",
        "    print(f\"Actual: {image_class}\")\n",
        "    print(f\"Predicted: {list(classes.keys())[pred_class]}\")\n",
        "    print(f'Confidence: {round(confidence, 4)}')"
      ],
      "metadata": {
        "execution": {
          "iopub.status.busy": "2024-03-16T04:08:48.084431Z",
          "iopub.execute_input": "2024-03-16T04:08:48.084731Z",
          "iopub.status.idle": "2024-03-16T04:08:48.094914Z",
          "shell.execute_reply.started": "2024-03-16T04:08:48.084703Z",
          "shell.execute_reply": "2024-03-16T04:08:48.094003Z"
        },
        "trusted": true,
        "id": "PdxVTlAHL4jJ"
      },
      "execution_count": null,
      "outputs": []
    },
    {
      "cell_type": "code",
      "source": [
        "# Flatten the images\n",
        "images_lst_array = []\n",
        "for images in test_images:\n",
        "    # Function returns two values\n",
        "    flattened = flatten_images(images) # num_test_set is the number of images set aside as test set\n",
        "\n",
        "    images_lst_array.append(flattened)"
      ],
      "metadata": {
        "execution": {
          "iopub.status.busy": "2024-03-16T04:08:48.095782Z",
          "iopub.execute_input": "2024-03-16T04:08:48.09603Z",
          "iopub.status.idle": "2024-03-16T04:08:48.109571Z",
          "shell.execute_reply.started": "2024-03-16T04:08:48.096007Z",
          "shell.execute_reply": "2024-03-16T04:08:48.108836Z"
        },
        "trusted": true,
        "id": "-EkIBxK_L4jK"
      },
      "execution_count": null,
      "outputs": []
    },
    {
      "cell_type": "code",
      "source": [
        "# Normalize and reshape the images for each class\n",
        "images_scaled_RGB_lst = scale_and_reshape_images(images_lst_array)"
      ],
      "metadata": {
        "execution": {
          "iopub.status.busy": "2024-03-16T04:08:48.110807Z",
          "iopub.execute_input": "2024-03-16T04:08:48.111152Z",
          "iopub.status.idle": "2024-03-16T04:08:48.134874Z",
          "shell.execute_reply.started": "2024-03-16T04:08:48.111119Z",
          "shell.execute_reply": "2024-03-16T04:08:48.134033Z"
        },
        "trusted": true,
        "id": "qi7_8MFML4jK"
      },
      "execution_count": null,
      "outputs": []
    },
    {
      "cell_type": "code",
      "source": [
        "# Keys from the classes dictionary defined above\n",
        "class_keys = list(classes.keys())\n",
        "# Image index from the test set\n",
        "image_idx = 2\n",
        "for key in class_keys:\n",
        "    make_predictions(images_scaled_RGB_lst, key, image_idx)"
      ],
      "metadata": {
        "execution": {
          "iopub.status.busy": "2024-03-16T04:08:48.136063Z",
          "iopub.execute_input": "2024-03-16T04:08:48.136398Z",
          "iopub.status.idle": "2024-03-16T04:08:49.944978Z",
          "shell.execute_reply.started": "2024-03-16T04:08:48.136367Z",
          "shell.execute_reply": "2024-03-16T04:08:49.944034Z"
        },
        "trusted": true,
        "id": "lSwslKDJL4jK"
      },
      "execution_count": null,
      "outputs": []
    },
    {
      "cell_type": "markdown",
      "source": [
        "# 🚀 Deploying Model\n",
        "In order to be able to deploy our model, we want to consider two scenarios:\n",
        "1. The user sends a single image for inference.\n",
        "2. The user sends multiple images for inference.\n",
        "\n",
        "We want to be able to handle both scenarios in the function(s) that does the preprocessing of the image(s)."
      ],
      "metadata": {
        "id": "ndBgw2PjL4jK"
      }
    },
    {
      "cell_type": "code",
      "source": [],
      "metadata": {
        "id": "rWTFHcCwL4jK"
      },
      "execution_count": null,
      "outputs": []
    }
  ]
}